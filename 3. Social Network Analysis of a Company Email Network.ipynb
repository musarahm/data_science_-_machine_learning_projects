{
 "cells": [
  {
   "cell_type": "markdown",
   "metadata": {},
   "source": [
    "# Social Network Analysis of a Company Email Network\n",
    "\n",
    "This assignment involves working with a company's email network where each node represents an employee of the company, and each edge denotes that at least one email has been sent between two employees. The email network also consists of node attributes `Department` and `ManagementSalary`. `Department` denotes the department in the company which the employee belongs to, and `ManagementSalary` indicates whether that employee is receiving a management position salary."
   ]
  },
  {
   "cell_type": "code",
   "execution_count": 1,
   "metadata": {
    "collapsed": true
   },
   "outputs": [],
   "source": [
    "import networkx as nx # importing NetworkX which is a Python language software package for complex networks.\n",
    "import pandas as pd # importing pandas which is high-performance, easy-to-use data structures and data analysis framework\n",
    "import numpy as np # importing numpy which is fundamental package for scientific computing with Python\n",
    "import pickle # importing pickle module which implements binary protocols for serializing and de-serializing a Python object structure"
   ]
  },
  {
   "cell_type": "code",
   "execution_count": 2,
   "metadata": {},
   "outputs": [
    {
     "name": "stdout",
     "output_type": "stream",
     "text": [
      "Name: \n",
      "Type: Graph\n",
      "Number of nodes: 1005\n",
      "Number of edges: 16706\n",
      "Average degree:  33.2458\n"
     ]
    }
   ],
   "source": [
    "G = nx.read_gpickle('email_prediction.txt') # Reading email network of a small company in Python pickle format\n",
    "\n",
    "print(nx.info(G)) # Print short summary of information for the email network of the company"
   ]
  },
  {
   "cell_type": "code",
   "execution_count": 3,
   "metadata": {},
   "outputs": [
    {
     "data": {
      "text/plain": [
       "[0, 1, 2, 3, 4, 5, 6, 7, 8, 9]"
      ]
     },
     "execution_count": 3,
     "metadata": {},
     "output_type": "execute_result"
    }
   ],
   "source": [
    "G.nodes()[:10] # displaying a subset of 10 list of the employee nodes of the email network of the company"
   ]
  },
  {
   "cell_type": "code",
   "execution_count": 4,
   "metadata": {},
   "outputs": [
    {
     "data": {
      "text/plain": [
       "[(0, 1),\n",
       " (0, 17),\n",
       " (0, 316),\n",
       " (0, 146),\n",
       " (0, 581),\n",
       " (0, 268),\n",
       " (0, 221),\n",
       " (0, 218),\n",
       " (0, 18),\n",
       " (0, 734)]"
      ]
     },
     "execution_count": 4,
     "metadata": {},
     "output_type": "execute_result"
    }
   ],
   "source": [
    "G.edges()[:10] # displaying a subset of 10 list of the email communication edges of the email network of the company"
   ]
  },
  {
   "cell_type": "markdown",
   "metadata": {},
   "source": [
    "### Part A - Salary Prediction\n",
    "\n",
    "Network `G`, is used to identify employees in the network with missing values for the node attribute `ManagementSalary` and predict whether or not they are receiving a management position salary.\n",
    "\n",
    "To achieve this, a matrix of node features using networkx is created and a sklearn classifier is trained on nodes that have `ManagementSalary` data for predicting probabilities of employees receiving management salary for nodes where `ManagementSalary` is missing.\n",
    "\n",
    "The evaluation metric for this assignment is the Area Under the ROC Curve (AUC) which is graded in the assignment server."
   ]
  },
  {
   "cell_type": "code",
   "execution_count": 5,
   "metadata": {
    "collapsed": true
   },
   "outputs": [],
   "source": [
    "from sklearn.svm import SVC # importing Support Vector Classifier from scikit-learn\n",
    "from sklearn.neural_network import MLPClassifier # importing Multi-layer Perceptron classifier from scikit-learn\n",
    "from sklearn.preprocessing import MinMaxScaler # importing min max scaler to transform features by scaling each feature to a given range"
   ]
  },
  {
   "cell_type": "code",
   "execution_count": 6,
   "metadata": {
    "collapsed": true
   },
   "outputs": [],
   "source": [
    "def is_management_salary(node): # function to check if each employee node from the company network receives a management salary\n",
    "    management_salary = node[1]['ManagementSalary']\n",
    "    if management_salary == 0:\n",
    "        return 0\n",
    "    elif management_salary == 1:\n",
    "        return 1\n",
    "    else:\n",
    "        return None"
   ]
  },
  {
   "cell_type": "code",
   "execution_count": 7,
   "metadata": {
    "collapsed": true
   },
   "outputs": [],
   "source": [
    "df = pd.DataFrame(index=G.nodes()) # storing the employee nodes of the company network "
   ]
  },
  {
   "cell_type": "code",
   "execution_count": 8,
   "metadata": {
    "collapsed": true
   },
   "outputs": [],
   "source": [
    "df['clustering coefficient'] = pd.Series(nx.clustering(G)) # computing the clustering coefficient for employee nodes and storing it in a dataframe\n",
    "df['degree_view'] = pd.Series(G.degree()) # computing degrees of employee nodes for the company email network \n",
    "df['degree_centrality'] = pd.Series(nx.degree_centrality(G)) # computing the degree centrality for employee nodes and storing it in a dataframe\n",
    "df['closeness_centrality'] = pd.Series(nx.closeness_centrality(G, normalized=True)) # computing the degree centrality for employee nodes and storing it in a dataframe\n",
    "df['betweenness_centrality'] = pd.Series(nx.betweenness_centrality(G, normalized=True)) # computing the betweenness centrality for employee nodes and storing it in a dataframe\n",
    "df['PageRank'] = pd.Series(nx.pagerank(G)) # computing PageRank of the employee nodes and storing it in a dataframe\n",
    "df['Management Salary'] = pd.Series([is_management_salary(node) for node in G.nodes(data=True)])"
   ]
  },
  {
   "cell_type": "code",
   "execution_count": 9,
   "metadata": {},
   "outputs": [
    {
     "data": {
      "text/html": [
       "<div>\n",
       "<style>\n",
       "    .dataframe thead tr:only-child th {\n",
       "        text-align: right;\n",
       "    }\n",
       "\n",
       "    .dataframe thead th {\n",
       "        text-align: left;\n",
       "    }\n",
       "\n",
       "    .dataframe tbody tr th {\n",
       "        vertical-align: top;\n",
       "    }\n",
       "</style>\n",
       "<table border=\"1\" class=\"dataframe\">\n",
       "  <thead>\n",
       "    <tr style=\"text-align: right;\">\n",
       "      <th></th>\n",
       "      <th>clustering coefficient</th>\n",
       "      <th>degree_view</th>\n",
       "      <th>degree_centrality</th>\n",
       "      <th>closeness_centrality</th>\n",
       "      <th>betweenness_centrality</th>\n",
       "      <th>PageRank</th>\n",
       "      <th>Management Salary</th>\n",
       "    </tr>\n",
       "  </thead>\n",
       "  <tbody>\n",
       "    <tr>\n",
       "      <th>0</th>\n",
       "      <td>0.276423</td>\n",
       "      <td>44</td>\n",
       "      <td>0.043825</td>\n",
       "      <td>0.421991</td>\n",
       "      <td>0.001124</td>\n",
       "      <td>0.001224</td>\n",
       "      <td>0.0</td>\n",
       "    </tr>\n",
       "    <tr>\n",
       "      <th>1</th>\n",
       "      <td>0.265306</td>\n",
       "      <td>52</td>\n",
       "      <td>0.051793</td>\n",
       "      <td>0.422360</td>\n",
       "      <td>0.001195</td>\n",
       "      <td>0.001426</td>\n",
       "      <td>NaN</td>\n",
       "    </tr>\n",
       "    <tr>\n",
       "      <th>2</th>\n",
       "      <td>0.297803</td>\n",
       "      <td>95</td>\n",
       "      <td>0.094622</td>\n",
       "      <td>0.461490</td>\n",
       "      <td>0.006570</td>\n",
       "      <td>0.002605</td>\n",
       "      <td>NaN</td>\n",
       "    </tr>\n",
       "    <tr>\n",
       "      <th>3</th>\n",
       "      <td>0.384910</td>\n",
       "      <td>71</td>\n",
       "      <td>0.070717</td>\n",
       "      <td>0.441663</td>\n",
       "      <td>0.001654</td>\n",
       "      <td>0.001833</td>\n",
       "      <td>1.0</td>\n",
       "    </tr>\n",
       "    <tr>\n",
       "      <th>4</th>\n",
       "      <td>0.318691</td>\n",
       "      <td>96</td>\n",
       "      <td>0.095618</td>\n",
       "      <td>0.462152</td>\n",
       "      <td>0.005547</td>\n",
       "      <td>0.002526</td>\n",
       "      <td>1.0</td>\n",
       "    </tr>\n",
       "  </tbody>\n",
       "</table>\n",
       "</div>"
      ],
      "text/plain": [
       "   clustering coefficient  degree_view  degree_centrality  \\\n",
       "0                0.276423           44           0.043825   \n",
       "1                0.265306           52           0.051793   \n",
       "2                0.297803           95           0.094622   \n",
       "3                0.384910           71           0.070717   \n",
       "4                0.318691           96           0.095618   \n",
       "\n",
       "   closeness_centrality  betweenness_centrality  PageRank  Management Salary  \n",
       "0              0.421991                0.001124  0.001224                0.0  \n",
       "1              0.422360                0.001195  0.001426                NaN  \n",
       "2              0.461490                0.006570  0.002605                NaN  \n",
       "3              0.441663                0.001654  0.001833                1.0  \n",
       "4              0.462152                0.005547  0.002526                1.0  "
      ]
     },
     "execution_count": 9,
     "metadata": {},
     "output_type": "execute_result"
    }
   ],
   "source": [
    "df.head() # displaying the first five rows of the employee nodes from the company network "
   ]
  },
  {
   "cell_type": "code",
   "execution_count": 10,
   "metadata": {
    "collapsed": true
   },
   "outputs": [],
   "source": [
    "df_train = df[~pd.isnull(df['Management Salary'])] # extracting only the rows with valid Management Salary values for train set\n",
    "df_test = df[pd.isnull(df['Management Salary'])] # extracting only the rows with null values in Management Salary for test set"
   ]
  },
  {
   "cell_type": "code",
   "execution_count": 11,
   "metadata": {},
   "outputs": [
    {
     "data": {
      "text/html": [
       "<div>\n",
       "<style>\n",
       "    .dataframe thead tr:only-child th {\n",
       "        text-align: right;\n",
       "    }\n",
       "\n",
       "    .dataframe thead th {\n",
       "        text-align: left;\n",
       "    }\n",
       "\n",
       "    .dataframe tbody tr th {\n",
       "        vertical-align: top;\n",
       "    }\n",
       "</style>\n",
       "<table border=\"1\" class=\"dataframe\">\n",
       "  <thead>\n",
       "    <tr style=\"text-align: right;\">\n",
       "      <th></th>\n",
       "      <th>clustering coefficient</th>\n",
       "      <th>degree_view</th>\n",
       "      <th>degree_centrality</th>\n",
       "      <th>closeness_centrality</th>\n",
       "      <th>betweenness_centrality</th>\n",
       "      <th>PageRank</th>\n",
       "      <th>Management Salary</th>\n",
       "    </tr>\n",
       "  </thead>\n",
       "  <tbody>\n",
       "    <tr>\n",
       "      <th>0</th>\n",
       "      <td>0.276423</td>\n",
       "      <td>44</td>\n",
       "      <td>0.043825</td>\n",
       "      <td>0.421991</td>\n",
       "      <td>0.001124</td>\n",
       "      <td>0.001224</td>\n",
       "      <td>0.0</td>\n",
       "    </tr>\n",
       "    <tr>\n",
       "      <th>3</th>\n",
       "      <td>0.384910</td>\n",
       "      <td>71</td>\n",
       "      <td>0.070717</td>\n",
       "      <td>0.441663</td>\n",
       "      <td>0.001654</td>\n",
       "      <td>0.001833</td>\n",
       "      <td>1.0</td>\n",
       "    </tr>\n",
       "    <tr>\n",
       "      <th>4</th>\n",
       "      <td>0.318691</td>\n",
       "      <td>96</td>\n",
       "      <td>0.095618</td>\n",
       "      <td>0.462152</td>\n",
       "      <td>0.005547</td>\n",
       "      <td>0.002526</td>\n",
       "      <td>1.0</td>\n",
       "    </tr>\n",
       "    <tr>\n",
       "      <th>6</th>\n",
       "      <td>0.155183</td>\n",
       "      <td>115</td>\n",
       "      <td>0.114542</td>\n",
       "      <td>0.475805</td>\n",
       "      <td>0.012387</td>\n",
       "      <td>0.003146</td>\n",
       "      <td>1.0</td>\n",
       "    </tr>\n",
       "    <tr>\n",
       "      <th>7</th>\n",
       "      <td>0.287785</td>\n",
       "      <td>72</td>\n",
       "      <td>0.071713</td>\n",
       "      <td>0.420156</td>\n",
       "      <td>0.002818</td>\n",
       "      <td>0.002002</td>\n",
       "      <td>0.0</td>\n",
       "    </tr>\n",
       "  </tbody>\n",
       "</table>\n",
       "</div>"
      ],
      "text/plain": [
       "   clustering coefficient  degree_view  degree_centrality  \\\n",
       "0                0.276423           44           0.043825   \n",
       "3                0.384910           71           0.070717   \n",
       "4                0.318691           96           0.095618   \n",
       "6                0.155183          115           0.114542   \n",
       "7                0.287785           72           0.071713   \n",
       "\n",
       "   closeness_centrality  betweenness_centrality  PageRank  Management Salary  \n",
       "0              0.421991                0.001124  0.001224                0.0  \n",
       "3              0.441663                0.001654  0.001833                1.0  \n",
       "4              0.462152                0.005547  0.002526                1.0  \n",
       "6              0.475805                0.012387  0.003146                1.0  \n",
       "7              0.420156                0.002818  0.002002                0.0  "
      ]
     },
     "execution_count": 11,
     "metadata": {},
     "output_type": "execute_result"
    }
   ],
   "source": [
    "df_train.head() # displaying the first five rows of train set"
   ]
  },
  {
   "cell_type": "code",
   "execution_count": 12,
   "metadata": {},
   "outputs": [
    {
     "data": {
      "text/html": [
       "<div>\n",
       "<style>\n",
       "    .dataframe thead tr:only-child th {\n",
       "        text-align: right;\n",
       "    }\n",
       "\n",
       "    .dataframe thead th {\n",
       "        text-align: left;\n",
       "    }\n",
       "\n",
       "    .dataframe tbody tr th {\n",
       "        vertical-align: top;\n",
       "    }\n",
       "</style>\n",
       "<table border=\"1\" class=\"dataframe\">\n",
       "  <thead>\n",
       "    <tr style=\"text-align: right;\">\n",
       "      <th></th>\n",
       "      <th>clustering coefficient</th>\n",
       "      <th>degree_view</th>\n",
       "      <th>degree_centrality</th>\n",
       "      <th>closeness_centrality</th>\n",
       "      <th>betweenness_centrality</th>\n",
       "      <th>PageRank</th>\n",
       "      <th>Management Salary</th>\n",
       "    </tr>\n",
       "  </thead>\n",
       "  <tbody>\n",
       "    <tr>\n",
       "      <th>1</th>\n",
       "      <td>0.265306</td>\n",
       "      <td>52</td>\n",
       "      <td>0.051793</td>\n",
       "      <td>0.422360</td>\n",
       "      <td>0.001195</td>\n",
       "      <td>0.001426</td>\n",
       "      <td>NaN</td>\n",
       "    </tr>\n",
       "    <tr>\n",
       "      <th>2</th>\n",
       "      <td>0.297803</td>\n",
       "      <td>95</td>\n",
       "      <td>0.094622</td>\n",
       "      <td>0.461490</td>\n",
       "      <td>0.006570</td>\n",
       "      <td>0.002605</td>\n",
       "      <td>NaN</td>\n",
       "    </tr>\n",
       "    <tr>\n",
       "      <th>5</th>\n",
       "      <td>0.107002</td>\n",
       "      <td>171</td>\n",
       "      <td>0.170319</td>\n",
       "      <td>0.501484</td>\n",
       "      <td>0.030995</td>\n",
       "      <td>0.004914</td>\n",
       "      <td>NaN</td>\n",
       "    </tr>\n",
       "    <tr>\n",
       "      <th>8</th>\n",
       "      <td>0.447059</td>\n",
       "      <td>37</td>\n",
       "      <td>0.036853</td>\n",
       "      <td>0.413151</td>\n",
       "      <td>0.000557</td>\n",
       "      <td>0.001059</td>\n",
       "      <td>NaN</td>\n",
       "    </tr>\n",
       "    <tr>\n",
       "      <th>14</th>\n",
       "      <td>0.215784</td>\n",
       "      <td>80</td>\n",
       "      <td>0.079681</td>\n",
       "      <td>0.442068</td>\n",
       "      <td>0.003726</td>\n",
       "      <td>0.002166</td>\n",
       "      <td>NaN</td>\n",
       "    </tr>\n",
       "  </tbody>\n",
       "</table>\n",
       "</div>"
      ],
      "text/plain": [
       "    clustering coefficient  degree_view  degree_centrality  \\\n",
       "1                 0.265306           52           0.051793   \n",
       "2                 0.297803           95           0.094622   \n",
       "5                 0.107002          171           0.170319   \n",
       "8                 0.447059           37           0.036853   \n",
       "14                0.215784           80           0.079681   \n",
       "\n",
       "    closeness_centrality  betweenness_centrality  PageRank  Management Salary  \n",
       "1               0.422360                0.001195  0.001426                NaN  \n",
       "2               0.461490                0.006570  0.002605                NaN  \n",
       "5               0.501484                0.030995  0.004914                NaN  \n",
       "8               0.413151                0.000557  0.001059                NaN  \n",
       "14              0.442068                0.003726  0.002166                NaN  "
      ]
     },
     "execution_count": 12,
     "metadata": {},
     "output_type": "execute_result"
    }
   ],
   "source": [
    "df_test.head() # displaying the first five rows of test set"
   ]
  },
  {
   "cell_type": "code",
   "execution_count": 13,
   "metadata": {
    "collapsed": true
   },
   "outputs": [],
   "source": [
    "features = ['clustering coefficient', 'degree_view', 'degree_centrality', 'closeness_centrality', 'betweenness_centrality', 'PageRank'] # features of interest to keep\n",
    "X_train = df_train[features] # keeping only features of interest for train set\n",
    "Y_train = df_train['Management Salary'] # train set labels\n",
    "X_test = df_test[features] # keeping only features of interest for test set"
   ]
  },
  {
   "cell_type": "code",
   "execution_count": 14,
   "metadata": {
    "collapsed": true
   },
   "outputs": [],
   "source": [
    "scaler = MinMaxScaler() # initializing min max scaler\n",
    "X_train_scaled = scaler.fit_transform(X_train) # fitting the min max scaler to train set data\n",
    "X_test_scaled = scaler.transform(X_test) # fitting the same scaled min max scaler to test set data\n",
    "clf = MLPClassifier(hidden_layer_sizes = [10, 5], alpha = 5,\n",
    "                       random_state = 0, solver='lbfgs', verbose=0) # initializing Multi-layer Perceptron classifier with two hidden layer sizes of 10 and 5, L2 penalty (regularization term) parameter of 5, and lbfgs as optimising algorithm \n",
    "clf.fit(X_train_scaled, Y_train) # fitting the classifier on the scaled train set \n",
    "test_proba = clf.predict_proba(X_test_scaled)[:, 1] # computing probabilities of the employee having management salaries"
   ]
  },
  {
   "cell_type": "code",
   "execution_count": 15,
   "metadata": {},
   "outputs": [
    {
     "data": {
      "text/plain": [
       "array([ 0.12843931,  0.58626097,  0.97985876,  0.13370215,  0.30462535,\n",
       "        0.208766  ,  0.2695859 ,  0.33614353,  0.1691909 ,  0.14351299])"
      ]
     },
     "execution_count": 15,
     "metadata": {},
     "output_type": "execute_result"
    }
   ],
   "source": [
    "test_proba[:10] # displaying the probabilities of the first 10 employee in the company network"
   ]
  },
  {
   "cell_type": "code",
   "execution_count": 16,
   "metadata": {},
   "outputs": [
    {
     "data": {
      "text/plain": [
       "1     0.128439\n",
       "2     0.586261\n",
       "5     0.979859\n",
       "8     0.133702\n",
       "14    0.304625\n",
       "dtype: float64"
      ]
     },
     "execution_count": 16,
     "metadata": {},
     "output_type": "execute_result"
    }
   ],
   "source": [
    "probability_employee_MG_salary = pd.Series(test_proba,X_test.index) # storing the above probabilities with thier respective node as indexes in a pandas dataframe\n",
    "probability_employee_MG_salary.head() # displaying the first five rows of the above dataframe"
   ]
  },
  {
   "cell_type": "markdown",
   "metadata": {},
   "source": [
    "### Part B - New Connections Prediction\n",
    "\n",
    "The second part of this assignment involves predicting future connections between employees of the network. The future connections information has been loaded into the variable `future_connections`. The index is a tuple indicating a pair of nodes that currently do not have a connection, and the `Future Connection` column indicates if an edge between those two nodes will exist in the future, where a value of 1.0 indicates a future connection."
   ]
  },
  {
   "cell_type": "code",
   "execution_count": 17,
   "metadata": {},
   "outputs": [
    {
     "data": {
      "text/html": [
       "<div>\n",
       "<style>\n",
       "    .dataframe thead tr:only-child th {\n",
       "        text-align: right;\n",
       "    }\n",
       "\n",
       "    .dataframe thead th {\n",
       "        text-align: left;\n",
       "    }\n",
       "\n",
       "    .dataframe tbody tr th {\n",
       "        vertical-align: top;\n",
       "    }\n",
       "</style>\n",
       "<table border=\"1\" class=\"dataframe\">\n",
       "  <thead>\n",
       "    <tr style=\"text-align: right;\">\n",
       "      <th></th>\n",
       "      <th>Future Connection</th>\n",
       "    </tr>\n",
       "  </thead>\n",
       "  <tbody>\n",
       "    <tr>\n",
       "      <th>(6, 840)</th>\n",
       "      <td>0.0</td>\n",
       "    </tr>\n",
       "    <tr>\n",
       "      <th>(4, 197)</th>\n",
       "      <td>0.0</td>\n",
       "    </tr>\n",
       "    <tr>\n",
       "      <th>(620, 979)</th>\n",
       "      <td>0.0</td>\n",
       "    </tr>\n",
       "    <tr>\n",
       "      <th>(519, 872)</th>\n",
       "      <td>0.0</td>\n",
       "    </tr>\n",
       "    <tr>\n",
       "      <th>(382, 423)</th>\n",
       "      <td>0.0</td>\n",
       "    </tr>\n",
       "    <tr>\n",
       "      <th>(97, 226)</th>\n",
       "      <td>1.0</td>\n",
       "    </tr>\n",
       "    <tr>\n",
       "      <th>(349, 905)</th>\n",
       "      <td>0.0</td>\n",
       "    </tr>\n",
       "    <tr>\n",
       "      <th>(429, 860)</th>\n",
       "      <td>0.0</td>\n",
       "    </tr>\n",
       "    <tr>\n",
       "      <th>(309, 989)</th>\n",
       "      <td>0.0</td>\n",
       "    </tr>\n",
       "    <tr>\n",
       "      <th>(468, 880)</th>\n",
       "      <td>0.0</td>\n",
       "    </tr>\n",
       "  </tbody>\n",
       "</table>\n",
       "</div>"
      ],
      "text/plain": [
       "            Future Connection\n",
       "(6, 840)                  0.0\n",
       "(4, 197)                  0.0\n",
       "(620, 979)                0.0\n",
       "(519, 872)                0.0\n",
       "(382, 423)                0.0\n",
       "(97, 226)                 1.0\n",
       "(349, 905)                0.0\n",
       "(429, 860)                0.0\n",
       "(309, 989)                0.0\n",
       "(468, 880)                0.0"
      ]
     },
     "execution_count": 17,
     "metadata": {},
     "output_type": "execute_result"
    }
   ],
   "source": [
    "future_connections = pd.read_csv('Future_Connections.csv', index_col=0, converters={0: eval})\n",
    "future_connections.head(10)"
   ]
  },
  {
   "cell_type": "markdown",
   "metadata": {},
   "source": [
    "The edges in `future_connections` with missing values can be extracted using network `G` and `future_connections`. Then predictions on whether or not these edges will have a future connection can be made.\n",
    "\n",
    "To achieve this, a matrix of features for the edges in `future_connections` is created using networkx, a sklearn classifier is trained on those edges in `future_connections` (that have `Future Connection` data) for predicting probabilities of the edge being a future connection for those edges in `future_connections` where `Future Connection` is missing.\n",
    "\n",
    "The evaluation metric for this assignment is the Area Under the ROC Curve (AUC) which is graded in the assignment server."
   ]
  },
  {
   "cell_type": "code",
   "execution_count": 18,
   "metadata": {
    "collapsed": true
   },
   "outputs": [],
   "source": [
    "for node in G.nodes():\n",
    "        G.node[node]['community'] = G.node[node]['Department']"
   ]
  },
  {
   "cell_type": "code",
   "execution_count": 19,
   "metadata": {},
   "outputs": [
    {
     "data": {
      "text/plain": [
       "[0, 1, 2, 3, 4, 5, 6, 7, 8, 9]"
      ]
     },
     "execution_count": 19,
     "metadata": {},
     "output_type": "execute_result"
    }
   ],
   "source": [
    "G.nodes()[:10]"
   ]
  },
  {
   "cell_type": "code",
   "execution_count": 20,
   "metadata": {},
   "outputs": [
    {
     "data": {
      "text/plain": [
       "[(0, 1),\n",
       " (0, 17),\n",
       " (0, 316),\n",
       " (0, 146),\n",
       " (0, 581),\n",
       " (0, 268),\n",
       " (0, 221),\n",
       " (0, 218),\n",
       " (0, 18),\n",
       " (0, 734)]"
      ]
     },
     "execution_count": 20,
     "metadata": {},
     "output_type": "execute_result"
    }
   ],
   "source": [
    "G.edges()[:10]"
   ]
  },
  {
   "cell_type": "code",
   "execution_count": 21,
   "metadata": {
    "collapsed": true
   },
   "outputs": [],
   "source": [
    "preferential_attachment = list(nx.preferential_attachment(G)) # Computing preferential attachment scores of all employee node pairs and storing it in a list"
   ]
  },
  {
   "cell_type": "code",
   "execution_count": 22,
   "metadata": {},
   "outputs": [
    {
     "data": {
      "text/plain": [
       "[(0, 2, 4180),\n",
       " (0, 3, 3124),\n",
       " (0, 4, 4224),\n",
       " (0, 7, 3168),\n",
       " (0, 8, 1628),\n",
       " (0, 9, 1760),\n",
       " (0, 10, 2068),\n",
       " (0, 11, 3344),\n",
       " (0, 12, 2552),\n",
       " (0, 13, 7920)]"
      ]
     },
     "execution_count": 22,
     "metadata": {},
     "output_type": "execute_result"
    }
   ],
   "source": [
    "preferential_attachment[:10] # displaying the preferential attachment score of the first 10 rows of employee node pairs"
   ]
  },
  {
   "cell_type": "code",
   "execution_count": 23,
   "metadata": {
    "collapsed": true
   },
   "outputs": [],
   "source": [
    "df = pd.DataFrame(index=[(x[0], x[1]) for x in preferential_attachment]) # storing the employee node pairs as indexes in an empty pandas dataframe"
   ]
  },
  {
   "cell_type": "code",
   "execution_count": 24,
   "metadata": {},
   "outputs": [
    {
     "data": {
      "text/html": [
       "<div>\n",
       "<style>\n",
       "    .dataframe thead tr:only-child th {\n",
       "        text-align: right;\n",
       "    }\n",
       "\n",
       "    .dataframe thead th {\n",
       "        text-align: left;\n",
       "    }\n",
       "\n",
       "    .dataframe tbody tr th {\n",
       "        vertical-align: top;\n",
       "    }\n",
       "</style>\n",
       "<table border=\"1\" class=\"dataframe\">\n",
       "  <thead>\n",
       "    <tr style=\"text-align: right;\">\n",
       "      <th></th>\n",
       "    </tr>\n",
       "  </thead>\n",
       "  <tbody>\n",
       "    <tr>\n",
       "      <th>(0, 2)</th>\n",
       "    </tr>\n",
       "    <tr>\n",
       "      <th>(0, 3)</th>\n",
       "    </tr>\n",
       "    <tr>\n",
       "      <th>(0, 4)</th>\n",
       "    </tr>\n",
       "    <tr>\n",
       "      <th>(0, 7)</th>\n",
       "    </tr>\n",
       "    <tr>\n",
       "      <th>(0, 8)</th>\n",
       "    </tr>\n",
       "  </tbody>\n",
       "</table>\n",
       "</div>"
      ],
      "text/plain": [
       "Empty DataFrame\n",
       "Columns: []\n",
       "Index: [(0, 2), (0, 3), (0, 4), (0, 7), (0, 8)]"
      ]
     },
     "execution_count": 24,
     "metadata": {},
     "output_type": "execute_result"
    }
   ],
   "source": [
    "df.head() # displaying the first 5 rows of the employee node pairs"
   ]
  },
  {
   "cell_type": "code",
   "execution_count": 25,
   "metadata": {
    "collapsed": true
   },
   "outputs": [],
   "source": [
    "df['preferential_attachment_score'] = [x[2] for x in preferential_attachment] # storing preferential attachment scores of all employee node pairs in the dataframe as a feature \n",
    "cn_soundarajan_hopcroft = list(nx.cn_soundarajan_hopcroft(G)) # computing the number of common neighbors of employee node pairs in the company email network and storing it in a dataframe as a feature\n",
    "df_cn_soundarajan_hopcroft = pd.DataFrame(index=[(x[0], x[1]) for x in cn_soundarajan_hopcroft]) # storing the employee node pairs as indexes in an empty pandas dataframe\n",
    "df_cn_soundarajan_hopcroft['cn_soundarajan_hopcroft'] = [x[2] for x in cn_soundarajan_hopcroft] # storing the number of common neighbors of employee node pairs in the dataframe as a feature \n",
    "df = df.join(df_cn_soundarajan_hopcroft,how='outer') # joining the above two dataframes\n",
    "df['cn_soundarajan_hopcroft'] = df['cn_soundarajan_hopcroft'].fillna(value=0) # filling missing values in Common Neighbor Soundarajan-Hopcroft feature column with zero\n",
    "df['resource_allocation_index'] = [x[2] for x in list(nx.resource_allocation_index(G))] # computing resource allocation index of employee node pairs in the company email network and storing it in a dataframe as a feature\n",
    "df['jaccard_coefficient'] = [x[2] for x in list(nx.jaccard_coefficient(G))] # computing Jaccard coefficient of employee node pairs in the company email network and storing it in a dataframe as a feature\n",
    "df = future_connections.join(df,how='outer') # merging the above dataframe with the future conncection dataframe  "
   ]
  },
  {
   "cell_type": "code",
   "execution_count": 26,
   "metadata": {},
   "outputs": [
    {
     "data": {
      "text/html": [
       "<div>\n",
       "<style>\n",
       "    .dataframe thead tr:only-child th {\n",
       "        text-align: right;\n",
       "    }\n",
       "\n",
       "    .dataframe thead th {\n",
       "        text-align: left;\n",
       "    }\n",
       "\n",
       "    .dataframe tbody tr th {\n",
       "        vertical-align: top;\n",
       "    }\n",
       "</style>\n",
       "<table border=\"1\" class=\"dataframe\">\n",
       "  <thead>\n",
       "    <tr style=\"text-align: right;\">\n",
       "      <th></th>\n",
       "      <th>Future Connection</th>\n",
       "      <th>preferential_attachment_score</th>\n",
       "      <th>cn_soundarajan_hopcroft</th>\n",
       "      <th>resource_allocation_index</th>\n",
       "      <th>jaccard_coefficient</th>\n",
       "    </tr>\n",
       "  </thead>\n",
       "  <tbody>\n",
       "    <tr>\n",
       "      <th>(0, 2)</th>\n",
       "      <td>0.0</td>\n",
       "      <td>4180</td>\n",
       "      <td>6</td>\n",
       "      <td>0.055340</td>\n",
       "      <td>0.045802</td>\n",
       "    </tr>\n",
       "    <tr>\n",
       "      <th>(0, 3)</th>\n",
       "      <td>0.0</td>\n",
       "      <td>3124</td>\n",
       "      <td>3</td>\n",
       "      <td>0.021388</td>\n",
       "      <td>0.027273</td>\n",
       "    </tr>\n",
       "    <tr>\n",
       "      <th>(0, 4)</th>\n",
       "      <td>0.0</td>\n",
       "      <td>4224</td>\n",
       "      <td>3</td>\n",
       "      <td>0.021388</td>\n",
       "      <td>0.022222</td>\n",
       "    </tr>\n",
       "    <tr>\n",
       "      <th>(0, 7)</th>\n",
       "      <td>0.0</td>\n",
       "      <td>3168</td>\n",
       "      <td>4</td>\n",
       "      <td>0.061668</td>\n",
       "      <td>0.036364</td>\n",
       "    </tr>\n",
       "    <tr>\n",
       "      <th>(0, 8)</th>\n",
       "      <td>0.0</td>\n",
       "      <td>1628</td>\n",
       "      <td>1</td>\n",
       "      <td>0.011628</td>\n",
       "      <td>0.012821</td>\n",
       "    </tr>\n",
       "  </tbody>\n",
       "</table>\n",
       "</div>"
      ],
      "text/plain": [
       "        Future Connection  preferential_attachment_score  \\\n",
       "(0, 2)                0.0                           4180   \n",
       "(0, 3)                0.0                           3124   \n",
       "(0, 4)                0.0                           4224   \n",
       "(0, 7)                0.0                           3168   \n",
       "(0, 8)                0.0                           1628   \n",
       "\n",
       "        cn_soundarajan_hopcroft  resource_allocation_index  \\\n",
       "(0, 2)                        6                   0.055340   \n",
       "(0, 3)                        3                   0.021388   \n",
       "(0, 4)                        3                   0.021388   \n",
       "(0, 7)                        4                   0.061668   \n",
       "(0, 8)                        1                   0.011628   \n",
       "\n",
       "        jaccard_coefficient  \n",
       "(0, 2)             0.045802  \n",
       "(0, 3)             0.027273  \n",
       "(0, 4)             0.022222  \n",
       "(0, 7)             0.036364  \n",
       "(0, 8)             0.012821  "
      ]
     },
     "execution_count": 26,
     "metadata": {},
     "output_type": "execute_result"
    }
   ],
   "source": [
    "df.head() # displaying the first five rows of the dataframe"
   ]
  },
  {
   "cell_type": "code",
   "execution_count": 27,
   "metadata": {},
   "outputs": [],
   "source": [
    "df_train = df[~pd.isnull(df['Future Connection'])] # extracting only the rows with valid future conncection values for train set\n",
    "df_test = df[pd.isnull(df['Future Connection'])] # extracting only the rows with null future conncection values for test set"
   ]
  },
  {
   "cell_type": "code",
   "execution_count": 28,
   "metadata": {},
   "outputs": [
    {
     "data": {
      "text/html": [
       "<div>\n",
       "<style>\n",
       "    .dataframe thead tr:only-child th {\n",
       "        text-align: right;\n",
       "    }\n",
       "\n",
       "    .dataframe thead th {\n",
       "        text-align: left;\n",
       "    }\n",
       "\n",
       "    .dataframe tbody tr th {\n",
       "        vertical-align: top;\n",
       "    }\n",
       "</style>\n",
       "<table border=\"1\" class=\"dataframe\">\n",
       "  <thead>\n",
       "    <tr style=\"text-align: right;\">\n",
       "      <th></th>\n",
       "      <th>Future Connection</th>\n",
       "      <th>preferential_attachment_score</th>\n",
       "      <th>cn_soundarajan_hopcroft</th>\n",
       "      <th>resource_allocation_index</th>\n",
       "      <th>jaccard_coefficient</th>\n",
       "    </tr>\n",
       "  </thead>\n",
       "  <tbody>\n",
       "    <tr>\n",
       "      <th>(0, 2)</th>\n",
       "      <td>0.0</td>\n",
       "      <td>4180</td>\n",
       "      <td>6</td>\n",
       "      <td>0.055340</td>\n",
       "      <td>0.045802</td>\n",
       "    </tr>\n",
       "    <tr>\n",
       "      <th>(0, 3)</th>\n",
       "      <td>0.0</td>\n",
       "      <td>3124</td>\n",
       "      <td>3</td>\n",
       "      <td>0.021388</td>\n",
       "      <td>0.027273</td>\n",
       "    </tr>\n",
       "    <tr>\n",
       "      <th>(0, 4)</th>\n",
       "      <td>0.0</td>\n",
       "      <td>4224</td>\n",
       "      <td>3</td>\n",
       "      <td>0.021388</td>\n",
       "      <td>0.022222</td>\n",
       "    </tr>\n",
       "    <tr>\n",
       "      <th>(0, 7)</th>\n",
       "      <td>0.0</td>\n",
       "      <td>3168</td>\n",
       "      <td>4</td>\n",
       "      <td>0.061668</td>\n",
       "      <td>0.036364</td>\n",
       "    </tr>\n",
       "    <tr>\n",
       "      <th>(0, 8)</th>\n",
       "      <td>0.0</td>\n",
       "      <td>1628</td>\n",
       "      <td>1</td>\n",
       "      <td>0.011628</td>\n",
       "      <td>0.012821</td>\n",
       "    </tr>\n",
       "  </tbody>\n",
       "</table>\n",
       "</div>"
      ],
      "text/plain": [
       "        Future Connection  preferential_attachment_score  \\\n",
       "(0, 2)                0.0                           4180   \n",
       "(0, 3)                0.0                           3124   \n",
       "(0, 4)                0.0                           4224   \n",
       "(0, 7)                0.0                           3168   \n",
       "(0, 8)                0.0                           1628   \n",
       "\n",
       "        cn_soundarajan_hopcroft  resource_allocation_index  \\\n",
       "(0, 2)                        6                   0.055340   \n",
       "(0, 3)                        3                   0.021388   \n",
       "(0, 4)                        3                   0.021388   \n",
       "(0, 7)                        4                   0.061668   \n",
       "(0, 8)                        1                   0.011628   \n",
       "\n",
       "        jaccard_coefficient  \n",
       "(0, 2)             0.045802  \n",
       "(0, 3)             0.027273  \n",
       "(0, 4)             0.022222  \n",
       "(0, 7)             0.036364  \n",
       "(0, 8)             0.012821  "
      ]
     },
     "execution_count": 28,
     "metadata": {},
     "output_type": "execute_result"
    }
   ],
   "source": [
    "df_train.head()  # displaying the first five rows of the train set"
   ]
  },
  {
   "cell_type": "code",
   "execution_count": 29,
   "metadata": {},
   "outputs": [
    {
     "data": {
      "text/html": [
       "<div>\n",
       "<style>\n",
       "    .dataframe thead tr:only-child th {\n",
       "        text-align: right;\n",
       "    }\n",
       "\n",
       "    .dataframe thead th {\n",
       "        text-align: left;\n",
       "    }\n",
       "\n",
       "    .dataframe tbody tr th {\n",
       "        vertical-align: top;\n",
       "    }\n",
       "</style>\n",
       "<table border=\"1\" class=\"dataframe\">\n",
       "  <thead>\n",
       "    <tr style=\"text-align: right;\">\n",
       "      <th></th>\n",
       "      <th>Future Connection</th>\n",
       "      <th>preferential_attachment_score</th>\n",
       "      <th>cn_soundarajan_hopcroft</th>\n",
       "      <th>resource_allocation_index</th>\n",
       "      <th>jaccard_coefficient</th>\n",
       "    </tr>\n",
       "  </thead>\n",
       "  <tbody>\n",
       "    <tr>\n",
       "      <th>(0, 9)</th>\n",
       "      <td>NaN</td>\n",
       "      <td>1760</td>\n",
       "      <td>2</td>\n",
       "      <td>0.041931</td>\n",
       "      <td>0.025000</td>\n",
       "    </tr>\n",
       "    <tr>\n",
       "      <th>(0, 19)</th>\n",
       "      <td>NaN</td>\n",
       "      <td>3168</td>\n",
       "      <td>4</td>\n",
       "      <td>0.064557</td>\n",
       "      <td>0.036364</td>\n",
       "    </tr>\n",
       "    <tr>\n",
       "      <th>(0, 20)</th>\n",
       "      <td>NaN</td>\n",
       "      <td>3256</td>\n",
       "      <td>7</td>\n",
       "      <td>0.090283</td>\n",
       "      <td>0.064220</td>\n",
       "    </tr>\n",
       "    <tr>\n",
       "      <th>(0, 35)</th>\n",
       "      <td>NaN</td>\n",
       "      <td>2596</td>\n",
       "      <td>1</td>\n",
       "      <td>0.005848</td>\n",
       "      <td>0.010000</td>\n",
       "    </tr>\n",
       "    <tr>\n",
       "      <th>(0, 38)</th>\n",
       "      <td>NaN</td>\n",
       "      <td>2068</td>\n",
       "      <td>0</td>\n",
       "      <td>0.000000</td>\n",
       "      <td>0.000000</td>\n",
       "    </tr>\n",
       "  </tbody>\n",
       "</table>\n",
       "</div>"
      ],
      "text/plain": [
       "         Future Connection  preferential_attachment_score  \\\n",
       "(0, 9)                 NaN                           1760   \n",
       "(0, 19)                NaN                           3168   \n",
       "(0, 20)                NaN                           3256   \n",
       "(0, 35)                NaN                           2596   \n",
       "(0, 38)                NaN                           2068   \n",
       "\n",
       "         cn_soundarajan_hopcroft  resource_allocation_index  \\\n",
       "(0, 9)                         2                   0.041931   \n",
       "(0, 19)                        4                   0.064557   \n",
       "(0, 20)                        7                   0.090283   \n",
       "(0, 35)                        1                   0.005848   \n",
       "(0, 38)                        0                   0.000000   \n",
       "\n",
       "         jaccard_coefficient  \n",
       "(0, 9)              0.025000  \n",
       "(0, 19)             0.036364  \n",
       "(0, 20)             0.064220  \n",
       "(0, 35)             0.010000  \n",
       "(0, 38)             0.000000  "
      ]
     },
     "execution_count": 29,
     "metadata": {},
     "output_type": "execute_result"
    }
   ],
   "source": [
    "df_test.head()  # displaying the first five rows of the train set"
   ]
  },
  {
   "cell_type": "code",
   "execution_count": 30,
   "metadata": {},
   "outputs": [
    {
     "name": "stderr",
     "output_type": "stream",
     "text": [
      "/opt/conda/lib/python3.6/site-packages/ipykernel/__main__.py:15: SettingWithCopyWarning: \n",
      "A value is trying to be set on a copy of a slice from a DataFrame.\n",
      "Try using .loc[row_indexer,col_indexer] = value instead\n",
      "\n",
      "See the caveats in the documentation: http://pandas.pydata.org/pandas-docs/stable/indexing.html#indexing-view-versus-copy\n"
     ]
    }
   ],
   "source": [
    "features = ['cn_soundarajan_hopcroft', 'preferential_attachment_score', 'resource_allocation_index', 'jaccard_coefficient'] # features of interest to keep\n",
    "X_train = df_train[features] # keeping only features of interest for train set\n",
    "Y_train = df_train['Future Connection'] # train set labels\n",
    "X_test = df_test[features] # keeping only features of interest for test set\n",
    "scaler = MinMaxScaler() # initializing min max scaler\n",
    "X_train_scaled = scaler.fit_transform(X_train) # fitting the min max scaler to train set data\n",
    "X_test_scaled = scaler.transform(X_test) # fitting the same scaled min max scaler to test set data\n",
    "clf = MLPClassifier(hidden_layer_sizes = [10, 5], alpha = 5, # initializing Multi-layer Perceptron classifier with two hidden layer sizes of 10 and 5, L2 penalty (regularization term) parameter of 5, and lbfgs as optimising algorithm \n",
    "                    random_state = 0, solver='lbfgs', verbose=0) \n",
    "clf.fit(X_train_scaled, Y_train) # fitting the classifier on the scaled train set \n",
    "test_proba = clf.predict_proba(X_test_scaled)[:, 1] # computing probabilities of new connections among employee pairs in the test set\n",
    "    \n",
    "predictions = pd.Series(test_proba,X_test.index) # storing the predicted probabilities of employee pairs in test set with their respective employee pairs as indexes in a pandas Series\n",
    "target = future_connections[pd.isnull(future_connections['Future Connection'])] # extracting the train set target comprising of null values\n",
    "target['prob'] = [predictions[x] for x in target.index] # storing the predicted probabilities of employee pairs in test set with their respective employee pairs as indexes in a pandas Dataframe"
   ]
  },
  {
   "cell_type": "code",
   "execution_count": 31,
   "metadata": {},
   "outputs": [
    {
     "data": {
      "text/html": [
       "<div>\n",
       "<style>\n",
       "    .dataframe thead tr:only-child th {\n",
       "        text-align: right;\n",
       "    }\n",
       "\n",
       "    .dataframe thead th {\n",
       "        text-align: left;\n",
       "    }\n",
       "\n",
       "    .dataframe tbody tr th {\n",
       "        vertical-align: top;\n",
       "    }\n",
       "</style>\n",
       "<table border=\"1\" class=\"dataframe\">\n",
       "  <thead>\n",
       "    <tr style=\"text-align: right;\">\n",
       "      <th></th>\n",
       "      <th>Future Connection</th>\n",
       "      <th>prob</th>\n",
       "    </tr>\n",
       "  </thead>\n",
       "  <tbody>\n",
       "    <tr>\n",
       "      <th>(107, 348)</th>\n",
       "      <td>NaN</td>\n",
       "      <td>0.029863</td>\n",
       "    </tr>\n",
       "    <tr>\n",
       "      <th>(542, 751)</th>\n",
       "      <td>NaN</td>\n",
       "      <td>0.012068</td>\n",
       "    </tr>\n",
       "    <tr>\n",
       "      <th>(20, 426)</th>\n",
       "      <td>NaN</td>\n",
       "      <td>0.566850</td>\n",
       "    </tr>\n",
       "    <tr>\n",
       "      <th>(50, 989)</th>\n",
       "      <td>NaN</td>\n",
       "      <td>0.012165</td>\n",
       "    </tr>\n",
       "    <tr>\n",
       "      <th>(942, 986)</th>\n",
       "      <td>NaN</td>\n",
       "      <td>0.012270</td>\n",
       "    </tr>\n",
       "  </tbody>\n",
       "</table>\n",
       "</div>"
      ],
      "text/plain": [
       "            Future Connection      prob\n",
       "(107, 348)                NaN  0.029863\n",
       "(542, 751)                NaN  0.012068\n",
       "(20, 426)                 NaN  0.566850\n",
       "(50, 989)                 NaN  0.012165\n",
       "(942, 986)                NaN  0.012270"
      ]
     },
     "execution_count": 31,
     "metadata": {},
     "output_type": "execute_result"
    }
   ],
   "source": [
    "target.head()"
   ]
  }
 ],
 "metadata": {
  "coursera": {
   "course_slug": "python-social-network-analysis",
   "graded_item_id": "BGNwe",
   "launcher_item_id": "rMoj0",
   "part_id": "E2zRG"
  },
  "kernelspec": {
   "display_name": "Python 3",
   "language": "python",
   "name": "python3"
  },
  "language_info": {
   "codemirror_mode": {
    "name": "ipython",
    "version": 3
   },
   "file_extension": ".py",
   "mimetype": "text/x-python",
   "name": "python",
   "nbconvert_exporter": "python",
   "pygments_lexer": "ipython3",
   "version": "3.6.0"
  }
 },
 "nbformat": 4,
 "nbformat_minor": 2
}
